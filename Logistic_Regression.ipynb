{
  "nbformat": 4,
  "nbformat_minor": 0,
  "metadata": {
    "colab": {
      "name": "Logistic Regression.ipynb",
      "provenance": [],
      "authorship_tag": "ABX9TyNvgFCaLa3exBq8Yh7X3Oal",
      "include_colab_link": true
    },
    "kernelspec": {
      "name": "python3",
      "display_name": "Python 3"
    },
    "language_info": {
      "name": "python"
    }
  },
  "cells": [
    {
      "cell_type": "markdown",
      "metadata": {
        "id": "view-in-github",
        "colab_type": "text"
      },
      "source": [
        "<a href=\"https://colab.research.google.com/github/sydoky/Logistic-Regression/blob/main/Logistic_Regression.ipynb\" target=\"_parent\"><img src=\"https://colab.research.google.com/assets/colab-badge.svg\" alt=\"Open In Colab\"/></a>"
      ]
    },
    {
      "cell_type": "code",
      "metadata": {
        "id": "5GWB5ksmjnJp"
      },
      "source": [
        "import pandas as pd\n",
        "import numpy as np\n",
        "import matplotlib.pyplot as plt"
      ],
      "execution_count": 1,
      "outputs": []
    },
    {
      "cell_type": "code",
      "metadata": {
        "id": "x-MlYy_mjx9O"
      },
      "source": [
        "dataset=pd.read_csv(\"/content/Social_Network_Ads.csv\")"
      ],
      "execution_count": 2,
      "outputs": []
    },
    {
      "cell_type": "code",
      "metadata": {
        "id": "dprkO8FBj4Xi"
      },
      "source": [
        "X=dataset.iloc[:,:-1].values\n",
        "y=dataset.iloc[:,-1].values"
      ],
      "execution_count": 3,
      "outputs": []
    },
    {
      "cell_type": "code",
      "metadata": {
        "id": "irgCRMGekCps"
      },
      "source": [
        "y"
      ],
      "execution_count": null,
      "outputs": []
    },
    {
      "cell_type": "code",
      "metadata": {
        "id": "F5zMPhMDkGWX"
      },
      "source": [
        "from sklearn.model_selection import train_test_split\n",
        "X_train, X_test, y_train,y_test=train_test_split(X,y,train_size=0.2)"
      ],
      "execution_count": 6,
      "outputs": []
    },
    {
      "cell_type": "markdown",
      "metadata": {
        "id": "XhsJ1pDYkVWp"
      },
      "source": [
        "# **Feature Scaling**"
      ]
    },
    {
      "cell_type": "code",
      "metadata": {
        "id": "Z1TaldLskXry"
      },
      "source": [
        "from sklearn.preprocessing import StandardScaler\n",
        "sc=StandardScaler()\n",
        "X_train=sc.fit_transform(X_train)\n",
        "X_test=sc.fit_transform(X_test)"
      ],
      "execution_count": 8,
      "outputs": []
    },
    {
      "cell_type": "code",
      "metadata": {
        "colab": {
          "base_uri": "https://localhost:8080/"
        },
        "id": "i14efTvJkv-e",
        "outputId": "caece227-0175-46dc-d709-8df69b049a57"
      },
      "source": [
        "X_train"
      ],
      "execution_count": 9,
      "outputs": [
        {
          "output_type": "execute_result",
          "data": {
            "text/plain": [
              "array([[-0.74342744,  1.15315311],\n",
              "       [-0.17808338, -0.12379281],\n",
              "       [-0.404221  , -1.62775135],\n",
              "       [-0.29115219, -0.83320722],\n",
              "       [-1.76104675, -0.379182  ],\n",
              "       [ 0.16112306, -0.03866308],\n",
              "       [ 2.08329286, -0.15216939],\n",
              "       [ 0.72646712, -1.51424504],\n",
              "       [ 1.17874237, -1.45749189],\n",
              "       [-1.76104675, -0.88996037],\n",
              "       [ 0.16112306, -0.54944145],\n",
              "       [ 1.17874237,  1.74906121],\n",
              "       [-0.404221  ,  0.24510268],\n",
              "       [-0.74342744,  1.06802338],\n",
              "       [-1.42184031,  0.13159637],\n",
              "       [ 0.27419187, -0.20892254],\n",
              "       [-0.29115219,  1.32341257],\n",
              "       [ 0.50032949,  0.9261405 ],\n",
              "       [-1.3087715 ,  0.13159637],\n",
              "       [-0.85649625, -0.15216939],\n",
              "       [ 0.83953593, -0.01028651],\n",
              "       [ 2.19636167,  1.83419094],\n",
              "       [ 0.04805425,  1.55042518],\n",
              "       [ 0.38726068, -0.40755857],\n",
              "       [-0.51728982, -1.03184325],\n",
              "       [ 0.27419187, -0.77645406],\n",
              "       [-1.19570269,  0.15997295],\n",
              "       [-0.96956506,  1.57880175],\n",
              "       [ 1.06567355, -1.25885586],\n",
              "       [-0.29115219,  1.09639996],\n",
              "       [-1.42184031, -0.20892254],\n",
              "       [ 0.72646712,  1.46529545],\n",
              "       [ 0.83953593,  1.06802338],\n",
              "       [ 2.08329286,  1.20990626],\n",
              "       [-0.06501457, -0.23729912],\n",
              "       [ 0.83953593,  0.07484322],\n",
              "       [ 0.16112306, -0.12379281],\n",
              "       [ 1.5179488 ,  1.66393148],\n",
              "       [ 1.97022405,  1.5220486 ],\n",
              "       [-0.404221  , -0.20892254],\n",
              "       [-1.08263388, -0.12379281],\n",
              "       [-0.51728982, -1.54262162],\n",
              "       [-1.87411556,  0.04646664],\n",
              "       [ 0.95260474,  1.83419094],\n",
              "       [ 0.27419187,  0.01809007],\n",
              "       [ 0.16112306, -0.57781803],\n",
              "       [ 1.06567355, -1.40073874],\n",
              "       [-0.17808338,  0.01809007],\n",
              "       [-0.85649625, -1.28723243],\n",
              "       [-0.85649625, -0.09541624],\n",
              "       [-0.51728982,  0.9261405 ],\n",
              "       [ 0.16112306, -0.40755857],\n",
              "       [-1.3087715 ,  0.24510268],\n",
              "       [ 0.95260474, -0.86158379],\n",
              "       [ 0.04805425, -1.06021982],\n",
              "       [ 0.16112306, -0.52106488],\n",
              "       [-1.87411556, -1.74125765],\n",
              "       [ 0.95260474,  0.72750447],\n",
              "       [-0.17808338, -0.20892254],\n",
              "       [ 0.95260474, -1.59937477],\n",
              "       [-0.63035863,  1.97607382],\n",
              "       [ 0.38726068,  0.30185583],\n",
              "       [-0.63035863, -1.0885964 ],\n",
              "       [-0.17808338, -0.15216939],\n",
              "       [-0.404221  , -0.74807749],\n",
              "       [ 0.50032949,  1.4085423 ],\n",
              "       [ 0.16112306, -0.23729912],\n",
              "       [-1.87411556, -1.48586846],\n",
              "       [ 0.38726068, -0.71970091],\n",
              "       [ 0.27419187, -0.9750901 ],\n",
              "       [-0.06501457, -0.57781803],\n",
              "       [ 0.27419187, -1.40073874],\n",
              "       [ 0.04805425,  1.55042518],\n",
              "       [ 0.38726068,  0.8126342 ],\n",
              "       [ 1.06567355,  1.46529545],\n",
              "       [ 1.06567355,  0.30185583],\n",
              "       [-2.213322  , -0.09541624],\n",
              "       [ 2.19636167,  0.44373871],\n",
              "       [-0.404221  , -1.14534955],\n",
              "       [-0.96956506,  0.2167261 ]])"
            ]
          },
          "metadata": {},
          "execution_count": 9
        }
      ]
    },
    {
      "cell_type": "code",
      "metadata": {
        "colab": {
          "base_uri": "https://localhost:8080/"
        },
        "id": "NUBWmRk9k88C",
        "outputId": "0c26d084-3d77-463f-e6b9-3cdc030fc6bf"
      },
      "source": [
        "from sklearn.linear_model import LogisticRegression\n",
        "classifier=LogisticRegression()\n",
        "classifier.fit(X_train, y_train)"
      ],
      "execution_count": 10,
      "outputs": [
        {
          "output_type": "execute_result",
          "data": {
            "text/plain": [
              "LogisticRegression(C=1.0, class_weight=None, dual=False, fit_intercept=True,\n",
              "                   intercept_scaling=1, l1_ratio=None, max_iter=100,\n",
              "                   multi_class='auto', n_jobs=None, penalty='l2',\n",
              "                   random_state=None, solver='lbfgs', tol=0.0001, verbose=0,\n",
              "                   warm_start=False)"
            ]
          },
          "metadata": {},
          "execution_count": 10
        }
      ]
    },
    {
      "cell_type": "code",
      "metadata": {
        "colab": {
          "base_uri": "https://localhost:8080/"
        },
        "id": "WNOUu4tYlJOb",
        "outputId": "1302a92c-2510-4928-973b-345af1dd0bcd"
      },
      "source": [
        "classifier.score(X_test, y_test)"
      ],
      "execution_count": 11,
      "outputs": [
        {
          "output_type": "execute_result",
          "data": {
            "text/plain": [
              "0.825"
            ]
          },
          "metadata": {},
          "execution_count": 11
        }
      ]
    },
    {
      "cell_type": "code",
      "metadata": {
        "colab": {
          "base_uri": "https://localhost:8080/"
        },
        "id": "uz5TMekYlgHJ",
        "outputId": "7d043c97-270d-413b-a442-606ecc4e2efd"
      },
      "source": [
        "classifier.predict(sc.transform([[24,55000]]))"
      ],
      "execution_count": 12,
      "outputs": [
        {
          "output_type": "execute_result",
          "data": {
            "text/plain": [
              "array([0])"
            ]
          },
          "metadata": {},
          "execution_count": 12
        }
      ]
    },
    {
      "cell_type": "code",
      "metadata": {
        "id": "p8XYZvEMlsFJ"
      },
      "source": [
        "y_pred=classifier.predict(X_test)"
      ],
      "execution_count": 13,
      "outputs": []
    },
    {
      "cell_type": "code",
      "metadata": {
        "colab": {
          "base_uri": "https://localhost:8080/"
        },
        "id": "vuFE9OUClwrR",
        "outputId": "873ab51f-1874-4770-9531-3139abaa3452"
      },
      "source": [
        "y_pred"
      ],
      "execution_count": 14,
      "outputs": [
        {
          "output_type": "execute_result",
          "data": {
            "text/plain": [
              "array([0, 1, 1, 1, 0, 1, 0, 1, 0, 0, 0, 0, 1, 0, 1, 0, 1, 1, 0, 0, 0, 0,\n",
              "       0, 0, 0, 1, 0, 1, 1, 1, 0, 0, 1, 0, 0, 1, 0, 1, 1, 0, 1, 1, 0, 0,\n",
              "       0, 1, 0, 0, 0, 0, 1, 0, 1, 0, 1, 1, 1, 0, 1, 0, 0, 0, 0, 0, 0, 0,\n",
              "       0, 1, 0, 0, 1, 0, 1, 0, 0, 1, 0, 0, 0, 0, 1, 0, 0, 0, 1, 1, 0, 0,\n",
              "       1, 0, 0, 0, 0, 0, 1, 0, 0, 1, 0, 0, 1, 0, 0, 0, 0, 1, 0, 0, 1, 0,\n",
              "       1, 0, 0, 0, 1, 1, 0, 1, 1, 1, 0, 0, 1, 0, 0, 1, 0, 1, 0, 1, 0, 1,\n",
              "       1, 1, 1, 1, 0, 1, 1, 0, 1, 0, 0, 0, 1, 1, 0, 0, 1, 0, 1, 0, 0, 1,\n",
              "       0, 1, 0, 1, 0, 0, 1, 1, 0, 0, 0, 0, 1, 0, 0, 1, 0, 1, 1, 0, 0, 1,\n",
              "       0, 0, 0, 1, 1, 1, 1, 0, 0, 0, 0, 0, 0, 1, 1, 0, 1, 0, 0, 0, 0, 1,\n",
              "       1, 1, 1, 1, 1, 0, 0, 0, 1, 0, 0, 1, 0, 1, 0, 1, 0, 1, 0, 0, 0, 0,\n",
              "       1, 0, 0, 0, 1, 0, 0, 0, 1, 0, 0, 0, 1, 0, 1, 1, 0, 1, 0, 0, 1, 1,\n",
              "       1, 1, 0, 0, 1, 0, 1, 1, 0, 0, 1, 0, 0, 1, 1, 1, 0, 1, 0, 0, 0, 1,\n",
              "       0, 1, 0, 0, 1, 0, 0, 0, 0, 0, 0, 1, 0, 0, 0, 0, 0, 0, 0, 1, 1, 0,\n",
              "       1, 0, 0, 0, 0, 0, 0, 1, 0, 0, 0, 0, 1, 1, 1, 1, 1, 1, 0, 1, 0, 0,\n",
              "       1, 0, 0, 1, 1, 1, 0, 1, 1, 0, 1, 0])"
            ]
          },
          "metadata": {},
          "execution_count": 14
        }
      ]
    },
    {
      "cell_type": "markdown",
      "metadata": {
        "id": "ygQsuKTul0M_"
      },
      "source": [
        "1. True Positive: model predicts 1 when truth is 1\n",
        "2. False positive: model predicts 1 when truth is 0\n",
        "3. True Negative: model predicts 0 when truth is 0\n",
        "4. False negative: model predicts 0 when truth is 1"
      ]
    },
    {
      "cell_type": "markdown",
      "metadata": {
        "id": "p7a0nNgmmSXI"
      },
      "source": [
        "Confuction Matrix"
      ]
    },
    {
      "cell_type": "code",
      "metadata": {
        "colab": {
          "base_uri": "https://localhost:8080/"
        },
        "id": "DItuntLXmUUT",
        "outputId": "c833bd30-daa4-4cd9-caa0-565d2eca181c"
      },
      "source": [
        "from sklearn.metrics import confusion_matrix, accuracy_score\n",
        "cm=confusion_matrix(y_test, y_pred)\n",
        "cm"
      ],
      "execution_count": 15,
      "outputs": [
        {
          "output_type": "execute_result",
          "data": {
            "text/plain": [
              "array([[172,  38],\n",
              "       [ 18,  92]])"
            ]
          },
          "metadata": {},
          "execution_count": 15
        }
      ]
    },
    {
      "cell_type": "markdown",
      "metadata": {
        "id": "d9qRl7SNmgmt"
      },
      "source": [
        "# **Visualizing Training Set Results**"
      ]
    },
    {
      "cell_type": "code",
      "metadata": {
        "colab": {
          "base_uri": "https://localhost:8080/",
          "height": 349
        },
        "id": "XGf-NtU2sMoq",
        "outputId": "e21eea16-6717-454b-ec7d-d2396314d83a"
      },
      "source": [
        "from matplotlib.colors import ListedColormap \n",
        "X_set, y_set = sc.inverse_transform(X_train), y_train \n",
        "X1, X2 = np.meshgrid(np.arange(start = X_set[:, 0].min() - 10, stop = X_set[:, 0].max() + 10, step = 0.25), \n",
        "                     np.arange(start = X_set[:, 1].min() - 1000, stop = X_set[:, 1].max() + 1000, step = 0.25)) \n",
        "plt.contourf(X1, X2, classifier.predict(sc.transform(np.array([X1.ravel(), X2.ravel()]).T)).reshape(X1.shape), \n",
        "             alpha = 0.75, cmap = ListedColormap(('red', 'green'))) \n",
        "plt.xlim(X1.min(), X1.max()) \n",
        "plt.ylim(X2.min(), X2.max()) \n",
        "for i, j in enumerate(np.unique(y_set)): \n",
        "  plt.scatter(X_set[y_set == j, 0], X_set[y_set == j, 1], c = ListedColormap(('red', 'green'))(i), label = j) \n",
        "plt.title('Logistic Regression (Training set)') \n",
        "plt.xlabel('Age') \n",
        "plt.ylabel('Estimated Salary') \n",
        "plt.legend() \n",
        "plt.show()"
      ],
      "execution_count": 21,
      "outputs": [
        {
          "output_type": "stream",
          "name": "stderr",
          "text": [
            "*c* argument looks like a single numeric RGB or RGBA sequence, which should be avoided as value-mapping will have precedence in case its length matches with *x* & *y*.  Please use the *color* keyword-argument or provide a 2-D array with a single row if you intend to specify the same RGB or RGBA value for all points.\n",
            "*c* argument looks like a single numeric RGB or RGBA sequence, which should be avoided as value-mapping will have precedence in case its length matches with *x* & *y*.  Please use the *color* keyword-argument or provide a 2-D array with a single row if you intend to specify the same RGB or RGBA value for all points.\n"
          ]
        },
        {
          "output_type": "display_data",
          "data": {
            "image/png": "[encoded data removed]",
            "text/plain": [
              "<Figure size 432x288 with 1 Axes>"
            ]
          },
          "metadata": {
            "needs_background": "light"
          }
        }
      ]
    },
    {
      "cell_type": "markdown",
      "metadata": {
        "id": "pIqkFJhPs71e"
      },
      "source": [
        "# **Visualizing Test Set Results**"
      ]
    },
    {
      "cell_type": "code",
      "metadata": {
        "colab": {
          "base_uri": "https://localhost:8080/",
          "height": 349
        },
        "id": "pZAkVINBtEjY",
        "outputId": "cb3082c1-00b4-4148-9ced-b997120d7f66"
      },
      "source": [
        "from matplotlib.colors import ListedColormap \n",
        "X_set, y_set = sc.inverse_transform(X_test), y_test \n",
        "X1, X2 = np.meshgrid(np.arange(start = X_set[:, 0].min() - 10, stop = X_set[:, 0].max() + 10, step = 0.25), \n",
        "                     np.arange(start = X_set[:, 1].min() - 1000, stop = X_set[:, 1].max() + 1000, step = 0.25)) \n",
        "plt.contourf(X1, X2, classifier.predict(sc.transform(np.array([X1.ravel(), X2.ravel()]).T)).reshape(X1.shape), \n",
        "             alpha = 0.75, cmap = ListedColormap(('red', 'green'))) \n",
        "plt.xlim(X1.min(), X1.max()) \n",
        "plt.ylim(X2.min(), X2.max()) \n",
        "for i, j in enumerate(np.unique(y_set)): \n",
        "  plt.scatter(X_set[y_set == j, 0], X_set[y_set == j, 1], c = ListedColormap(('red', 'green'))(i), label = j) \n",
        "plt.title('Logistic Regression (Training set)') \n",
        "plt.xlabel('Age') \n",
        "plt.ylabel('Estimated Salary') \n",
        "plt.legend() \n",
        "plt.show()"
      ],
      "execution_count": 19,
      "outputs": [
        {
          "output_type": "stream",
          "name": "stderr",
          "text": [
            "*c* argument looks like a single numeric RGB or RGBA sequence, which should be avoided as value-mapping will have precedence in case its length matches with *x* & *y*.  Please use the *color* keyword-argument or provide a 2-D array with a single row if you intend to specify the same RGB or RGBA value for all points.\n",
            "*c* argument looks like a single numeric RGB or RGBA sequence, which should be avoided as value-mapping will have precedence in case its length matches with *x* & *y*.  Please use the *color* keyword-argument or provide a 2-D array with a single row if you intend to specify the same RGB or RGBA value for all points.\n"
          ]
        },
        {
          "output_type": "display_data",
          "data": {
            "image/png": "[encoded data removed]",
            "text/plain": [
              "<Figure size 432x288 with 1 Axes>"
            ]
          },
          "metadata": {
            "needs_background": "light"
          }
        }
      ]
    }
  ]
}